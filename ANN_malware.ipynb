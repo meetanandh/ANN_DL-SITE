{
  "nbformat": 4,
  "nbformat_minor": 0,
  "metadata": {
    "colab": {
      "name": "ANN_malware.ipynb",
      "provenance": [],
      "collapsed_sections": []
    },
    "kernelspec": {
      "name": "python3",
      "display_name": "Python 3"
    },
    "accelerator": "GPU"
  },
  "cells": [
    {
      "cell_type": "code",
      "metadata": {
        "id": "xlXcdYkMDPKK",
        "colab_type": "code",
        "colab": {}
      },
      "source": [
        "!pip show tensorflow"
      ],
      "execution_count": null,
      "outputs": []
    },
    {
      "cell_type": "code",
      "metadata": {
        "id": "WwdFGii2DSd7",
        "colab_type": "code",
        "colab": {}
      },
      "source": [
        "!pip install -q keras"
      ],
      "execution_count": null,
      "outputs": []
    },
    {
      "cell_type": "code",
      "metadata": {
        "id": "S7ptwXCxDU1_",
        "colab_type": "code",
        "colab": {
          "base_uri": "https://localhost:8080/",
          "height": 34
        },
        "outputId": "6968b1bd-6b85-4ad3-ebc3-1540c6096ecd"
      },
      "source": [
        "import keras\n",
        "from keras.models import Sequential\n",
        "from keras.layers import Dense"
      ],
      "execution_count": null,
      "outputs": [
        {
          "output_type": "stream",
          "text": [
            "Using TensorFlow backend.\n"
          ],
          "name": "stderr"
        }
      ]
    },
    {
      "cell_type": "code",
      "metadata": {
        "id": "SoKGbl1RDW2m",
        "colab_type": "code",
        "colab": {}
      },
      "source": [
        "from google.colab import files\n",
        "uploaded = files.upload()\n"
      ],
      "execution_count": null,
      "outputs": []
    },
    {
      "cell_type": "markdown",
      "metadata": {
        "id": "hH9R1cbwDjtI",
        "colab_type": "text"
      },
      "source": [
        "# Loading dataset\n"
      ]
    },
    {
      "cell_type": "code",
      "metadata": {
        "id": "MLKChS2QDmKe",
        "colab_type": "code",
        "colab": {}
      },
      "source": [
        "import numpy as np\n",
        "import matplotlib.pyplot as plt\n",
        "import pandas as pd\n",
        "# Importing the dataset\n",
        "dataset = pd.read_csv('Malware dataset.csv')"
      ],
      "execution_count": null,
      "outputs": []
    },
    {
      "cell_type": "markdown",
      "metadata": {
        "id": "6t_90sCRILHS",
        "colab_type": "text"
      },
      "source": [
        "#Divide independent ,dependent features"
      ]
    },
    {
      "cell_type": "code",
      "metadata": {
        "id": "32OeNPPzD0yG",
        "colab_type": "code",
        "colab": {}
      },
      "source": [
        "X = dataset.iloc[:, 3:35].values\n",
        "y = dataset.iloc[:, 2].values"
      ],
      "execution_count": null,
      "outputs": []
    },
    {
      "cell_type": "markdown",
      "metadata": {
        "id": "s5eP7c77D_SZ",
        "colab_type": "text"
      },
      "source": [
        "#Divide into training and testing sets\n"
      ]
    },
    {
      "cell_type": "code",
      "metadata": {
        "id": "wOPJUf1UD8Y2",
        "colab_type": "code",
        "colab": {}
      },
      "source": [
        "from sklearn.model_selection import train_test_split\n",
        "X_train, X_test, y_train, y_test = train_test_split(X, y, test_size = 0.25, random_state = 0)\n"
      ],
      "execution_count": null,
      "outputs": []
    },
    {
      "cell_type": "markdown",
      "metadata": {
        "id": "HMMJ4hZyEF2U",
        "colab_type": "text"
      },
      "source": [
        "#Feature Scaling\n"
      ]
    },
    {
      "cell_type": "code",
      "metadata": {
        "id": "YWEgWkFZEHy3",
        "colab_type": "code",
        "colab": {}
      },
      "source": [
        "from sklearn.preprocessing import StandardScaler\n",
        "sc = StandardScaler()\n",
        "X_train = sc.fit_transform(X_train)\n",
        "X_test = sc.transform(X_test)"
      ],
      "execution_count": null,
      "outputs": []
    },
    {
      "cell_type": "markdown",
      "metadata": {
        "id": "5XopbIgsEMqI",
        "colab_type": "text"
      },
      "source": [
        "#Building the ANN\n"
      ]
    },
    {
      "cell_type": "markdown",
      "metadata": {
        "id": "J4GRuNZ4EX-H",
        "colab_type": "text"
      },
      "source": [
        "Initializing the ANN"
      ]
    },
    {
      "cell_type": "code",
      "metadata": {
        "id": "B3zWan9YEcEX",
        "colab_type": "code",
        "colab": {}
      },
      "source": [
        "# Importing the Keras libraries and packages\n",
        "import keras\n",
        "from keras.models import Sequential\n",
        "from keras.layers import Dense\n",
        "#initalize ANN\n",
        "classifier = Sequential()"
      ],
      "execution_count": null,
      "outputs": []
    },
    {
      "cell_type": "markdown",
      "metadata": {
        "id": "RcFgh7P9ErTY",
        "colab_type": "text"
      },
      "source": [
        "Adding the input layer and the first hidden layer"
      ]
    },
    {
      "cell_type": "code",
      "metadata": {
        "id": "4wtk6HCAEr8R",
        "colab_type": "code",
        "colab": {}
      },
      "source": [
        "classifier.add(Dense(units = 17, kernel_initializer = 'uniform', activation = 'relu', input_dim = 32))\n"
      ],
      "execution_count": null,
      "outputs": []
    },
    {
      "cell_type": "markdown",
      "metadata": {
        "id": "KybZITsTEw4P",
        "colab_type": "text"
      },
      "source": [
        "Adding the second hidden layer"
      ]
    },
    {
      "cell_type": "code",
      "metadata": {
        "id": "waQ1VsKXExhv",
        "colab_type": "code",
        "colab": {}
      },
      "source": [
        "classifier.add(Dense(units = 17, kernel_initializer = 'uniform', activation = 'relu'))"
      ],
      "execution_count": null,
      "outputs": []
    },
    {
      "cell_type": "markdown",
      "metadata": {
        "id": "LdLnvmw8Ez26",
        "colab_type": "text"
      },
      "source": [
        "Adding the third hidden layer"
      ]
    },
    {
      "cell_type": "code",
      "metadata": {
        "id": "a2oFzepFE26e",
        "colab_type": "code",
        "colab": {}
      },
      "source": [
        "classifier.add(Dense(units = 17, kernel_initializer = 'uniform', activation = 'relu'))"
      ],
      "execution_count": null,
      "outputs": []
    },
    {
      "cell_type": "markdown",
      "metadata": {
        "id": "ITSc6OCKE5BX",
        "colab_type": "text"
      },
      "source": [
        "Adding the output layer"
      ]
    },
    {
      "cell_type": "code",
      "metadata": {
        "id": "i6auNpVgE6wa",
        "colab_type": "code",
        "colab": {}
      },
      "source": [
        "classifier.add(Dense(units = 1, kernel_initializer = 'uniform', activation = 'sigmoid'))"
      ],
      "execution_count": null,
      "outputs": []
    },
    {
      "cell_type": "markdown",
      "metadata": {
        "id": "J_nC0AZOE-8y",
        "colab_type": "text"
      },
      "source": [
        "#Training the ANN\n"
      ]
    },
    {
      "cell_type": "markdown",
      "metadata": {
        "id": "0yDdN-fJFL8h",
        "colab_type": "text"
      },
      "source": [
        "Compiling the ANN"
      ]
    },
    {
      "cell_type": "code",
      "metadata": {
        "id": "sTYImJPNFKHq",
        "colab_type": "code",
        "colab": {}
      },
      "source": [
        "classifier.compile(optimizer = 'adam', loss = 'binary_crossentropy', metrics = ['accuracy'])"
      ],
      "execution_count": null,
      "outputs": []
    },
    {
      "cell_type": "markdown",
      "metadata": {
        "id": "exmOXvyEFnDM",
        "colab_type": "text"
      },
      "source": [
        "summary of model"
      ]
    },
    {
      "cell_type": "code",
      "metadata": {
        "id": "PXvCWDlvFpwH",
        "colab_type": "code",
        "colab": {}
      },
      "source": [
        "classifier.summary()"
      ],
      "execution_count": null,
      "outputs": []
    },
    {
      "cell_type": "markdown",
      "metadata": {
        "id": "o0lga3TxFyg3",
        "colab_type": "text"
      },
      "source": [
        "Fitting ANN"
      ]
    },
    {
      "cell_type": "code",
      "metadata": {
        "id": "jpYujn0uFxrI",
        "colab_type": "code",
        "colab": {}
      },
      "source": [
        "classifier.fit(X_train, y_train, batch_size = 16, epochs = 3)"
      ],
      "execution_count": null,
      "outputs": []
    },
    {
      "cell_type": "markdown",
      "metadata": {
        "id": "zgpcHMo5F3Ey",
        "colab_type": "text"
      },
      "source": [
        "#Making the predictions and evaluating the model"
      ]
    },
    {
      "cell_type": "code",
      "metadata": {
        "id": "V2chCkojF4WC",
        "colab_type": "code",
        "colab": {}
      },
      "source": [
        "y_pred = classifier.predict(X_test)\n"
      ],
      "execution_count": null,
      "outputs": []
    },
    {
      "cell_type": "code",
      "metadata": {
        "id": "uTMbpShIF7M3",
        "colab_type": "code",
        "colab": {}
      },
      "source": [
        "y_pred"
      ],
      "execution_count": null,
      "outputs": []
    },
    {
      "cell_type": "code",
      "metadata": {
        "id": "Hcwz2ENtF8OQ",
        "colab_type": "code",
        "colab": {}
      },
      "source": [
        "y_pred = (y_pred > 0.5)"
      ],
      "execution_count": null,
      "outputs": []
    },
    {
      "cell_type": "code",
      "metadata": {
        "id": "Jdl4lC7wF96R",
        "colab_type": "code",
        "colab": {}
      },
      "source": [
        "y_pred"
      ],
      "execution_count": null,
      "outputs": []
    },
    {
      "cell_type": "markdown",
      "metadata": {
        "id": "WEuM3iu3GDfZ",
        "colab_type": "text"
      },
      "source": [
        "#Training set results"
      ]
    },
    {
      "cell_type": "code",
      "metadata": {
        "id": "tqkployVGEdW",
        "colab_type": "code",
        "colab": {}
      },
      "source": [
        "from sklearn.metrics import confusion_matrix\n",
        "cm = confusion_matrix(y_train,classifier.predict(X_train).round())\n",
        "print(\"training set CM\")\n",
        "print(cm)\n",
        "from sklearn.metrics import classification_report\n",
        "print(classification_report(y_train,classifier.predict(X_train).round()))\n",
        "from sklearn.metrics import accuracy_score\n",
        "accuracy_score(y_train,classifier.predict(X_train).round())"
      ],
      "execution_count": null,
      "outputs": []
    },
    {
      "cell_type": "markdown",
      "metadata": {
        "id": "GeSFBwalGHAz",
        "colab_type": "text"
      },
      "source": [
        "#Testset results"
      ]
    },
    {
      "cell_type": "code",
      "metadata": {
        "id": "Q2wxcqhpGIBv",
        "colab_type": "code",
        "colab": {}
      },
      "source": [
        "y_pred = classifier.predict(X_test)\n",
        "from sklearn.metrics import confusion_matrix\n",
        "cm = confusion_matrix(y_test, y_pred.round())\n",
        "print(\"testing set CM\")\n",
        "print(cm)\n",
        "from sklearn.metrics import classification_report\n",
        "print(classification_report(y_test,y_pred.round()))\n",
        "from sklearn.metrics import accuracy_score\n",
        "accuracy_score(y_test,y_pred.round())"
      ],
      "execution_count": null,
      "outputs": []
    },
    {
      "cell_type": "code",
      "metadata": {
        "id": "kkbzTTltGK9n",
        "colab_type": "code",
        "colab": {}
      },
      "source": [
        "classifier.save(\"model1.h5\")\n",
        "!pip3 install ann_visualizer\n",
        "!pip install graphviz\n",
        "from ann_visualizer.visualize import ann_viz;\n",
        "ann_viz(classifier, title=\"ANN\")"
      ],
      "execution_count": null,
      "outputs": []
    },
    {
      "cell_type": "markdown",
      "metadata": {
        "id": "2w-BCjsZobxV",
        "colab_type": "text"
      },
      "source": [
        "#Apply Logistic Regression classification model"
      ]
    },
    {
      "cell_type": "code",
      "metadata": {
        "id": "HPfee0PjoTu4",
        "colab_type": "code",
        "colab": {
          "base_uri": "https://localhost:8080/",
          "height": 104
        },
        "outputId": "e22ef336-a327-4ab1-c83d-46f9df1e5c27"
      },
      "source": [
        "from sklearn.linear_model import LogisticRegression\n",
        "classifier = LogisticRegression(random_state = 0)\n",
        "classifier.fit(X_train, y_train)"
      ],
      "execution_count": null,
      "outputs": [
        {
          "output_type": "execute_result",
          "data": {
            "text/plain": [
              "LogisticRegression(C=1.0, class_weight=None, dual=False, fit_intercept=True,\n",
              "                   intercept_scaling=1, l1_ratio=None, max_iter=100,\n",
              "                   multi_class='auto', n_jobs=None, penalty='l2',\n",
              "                   random_state=0, solver='lbfgs', tol=0.0001, verbose=0,\n",
              "                   warm_start=False)"
            ]
          },
          "metadata": {
            "tags": []
          },
          "execution_count": 32
        }
      ]
    },
    {
      "cell_type": "code",
      "metadata": {
        "id": "sY3bQgx0oZC9",
        "colab_type": "code",
        "colab": {}
      },
      "source": [
        "y_pred = classifier.predict(X_test)\n",
        "from sklearn.metrics import confusion_matrix\n",
        "cm = confusion_matrix(y_test, y_pred.round())\n",
        "print(\"testing set CM\")\n",
        "print(cm)\n",
        "from sklearn.metrics import classification_report\n",
        "print(classification_report(y_test,y_pred.round()))\n",
        "from sklearn.metrics import accuracy_score\n",
        "accuracy_score(y_test,y_pred.round())"
      ],
      "execution_count": null,
      "outputs": []
    }
  ]
}